{
 "cells": [
  {
   "cell_type": "markdown",
   "metadata": {},
   "source": [
    "### Writing in a file"
   ]
  },
  {
   "cell_type": "code",
   "execution_count": 1,
   "metadata": {},
   "outputs": [],
   "source": [
    "from os import strerror\n",
    "try:\n",
    "\tfo = open('demo2.txt', 'wt')\n",
    "\tfor i in range(10):\n",
    "\t\ts = \"line #\" + str(i+1) + \"\\n\"\n",
    "\t\tfor ch in s:\n",
    "\t\t\tfo.write(ch)\n",
    "\tfo.close()\n",
    "except IOError as e:\n",
    "\tprint(\"I/O error occurred: \", strerror(e.errno))\n"
   ]
  },
  {
   "cell_type": "code",
   "execution_count": 3,
   "metadata": {},
   "outputs": [],
   "source": [
    "from os import strerror\n",
    "\n",
    "try:\n",
    "    fo = open('demo2.txt', 'wt')\n",
    "    for i in range(10):\n",
    "        fo.write(\"line #\" + str(i+1) + \"\\n\")\n",
    "    fo.close()\n",
    "except IOError as e:\n",
    "    print(\"I/O error occurred: \", strerror(e.errno))\n"
   ]
  },
  {
   "cell_type": "markdown",
   "metadata": {},
   "source": [
    "* Specialized classes Python uses to store amorphous data.\n",
    "    - Amorphous data is data which have no specific shape or form - they are just a series of bytes.\n",
    "\n",
    "* Amorphous data cannot be stored using any of the previously presented means - they are neither strings nor lists.\n",
    "\n",
    "* There are special container able to handle such data.\n",
    "    - Python has more than one such container - one of them is a specialized class name bytearray - as the name suggests, it's an array containing (amorphous) bytes.\n",
    "\n",
    "    - If you want to have such a container, e.g., in order to read in a bitmap image and process it in any way, you need to create it explicitly, using one of available constructors.\n",
    "\n",
    "* You mustn't set any byte array elements with a value which is not an integer (violating this rule will cause a TypeError exception) and you're not allowed to assign a value that doesn't come from the range 0 to 255 inclusive (unless you want to provoke a ValueError exception)."
   ]
  },
  {
   "cell_type": "code",
   "execution_count": 11,
   "metadata": {},
   "outputs": [
    {
     "name": "stdout",
     "output_type": "stream",
     "text": [
      "0x0\n",
      "0x0\n",
      "0x0\n",
      "0x0\n",
      "0x0\n",
      "0x0\n",
      "0x0\n",
      "0x0\n",
      "0x0\n",
      "0x0\n",
      "0x0\n",
      "0x0\n",
      "0x0\n",
      "0x0\n",
      "0x0\n"
     ]
    }
   ],
   "source": [
    "data =bytearray(15) # constructor fills the whole array with zeros.\n",
    "# print(data)\n",
    "for x in data:\n",
    "    print(hex(x))\n",
    "\n",
    "# data[0] = 'a'\n",
    "# data[0] = 291"
   ]
  },
  {
   "cell_type": "code",
   "execution_count": 15,
   "metadata": {},
   "outputs": [],
   "source": [
    "# Writing bytearray in binary file\n",
    "\n",
    "from os import strerror\n",
    "\n",
    "data = bytearray(10)\n",
    "\n",
    "for i in range(len(data)):\n",
    "    # data[i] = 10 + i\n",
    "     data[i] = ord(chr(65+i))\n",
    "\n",
    "try:\n",
    "    bf = open('ByteArrayDemo.bin', 'wb')\n",
    "    bf.write(data)\n",
    "    bf.close()\n",
    "except IOError as e:\n",
    "    print(\"I/O error occurred:\", strerror(e.errno))\n"
   ]
  },
  {
   "cell_type": "code",
   "execution_count": 23,
   "metadata": {},
   "outputs": [
    {
     "name": "stdout",
     "output_type": "stream",
     "text": [
      "bytearray(b'ABCDEFGHIJ')\n",
      "0x41 0x42 0x43 0x44 0x45 0x46 0x47 0x48 0x49 0x4a "
     ]
    }
   ],
   "source": [
    "# Reading bytes from stream\n",
    "from os import strerror\n",
    "\n",
    "data = bytearray(10)\n",
    "\n",
    "try:\n",
    "    bf = open('ByteArrayDemo.bin', 'rb')\n",
    "    bf.readinto(data) # 10 byte of data read into data bytearray\n",
    "    bf.close()\n",
    "\n",
    "    print(data)\n",
    "    \n",
    "    for b in data:\n",
    "        print(hex(b), end=' ')\n",
    "except IOError as e:\n",
    "    print(\"I/O error occurred:\", strerror(e.errno))\n",
    "\n"
   ]
  }
 ],
 "metadata": {
  "kernelspec": {
   "display_name": "Python 3",
   "language": "python",
   "name": "python3"
  },
  "language_info": {
   "codemirror_mode": {
    "name": "ipython",
    "version": 3
   },
   "file_extension": ".py",
   "mimetype": "text/x-python",
   "name": "python",
   "nbconvert_exporter": "python",
   "pygments_lexer": "ipython3",
   "version": "3.12.1"
  }
 },
 "nbformat": 4,
 "nbformat_minor": 2
}
