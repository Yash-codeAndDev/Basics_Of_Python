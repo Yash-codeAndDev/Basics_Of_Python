{
 "cells": [
  {
   "cell_type": "markdown",
   "metadata": {},
   "source": [
    "## Creating Dictionary"
   ]
  },
  {
   "cell_type": "code",
   "execution_count": 5,
   "metadata": {},
   "outputs": [
    {
     "name": "stdout",
     "output_type": "stream",
     "text": [
      "<class 'dict'>\n",
      "{}\n",
      "<class 'dict'>\n",
      "{}\n"
     ]
    }
   ],
   "source": [
    "# creating empty dictionary\n",
    "user_a = {}\n",
    "print(type(user_a))\n",
    "print(user_a)\n",
    "\n",
    "\n",
    "user_b = dict()\n",
    "print(type(user_b))\n",
    "print(user_b)"
   ]
  },
  {
   "cell_type": "code",
   "execution_count": 20,
   "metadata": {},
   "outputs": [
    {
     "name": "stdout",
     "output_type": "stream",
     "text": [
      "{'name': 'Yash Khati', 'University': 'GEHU', 3: 8, (1, 2): 'tuple Key', True: 'Yes', None: 'None Value'}\n",
      "{'name': 'Yash', 'University': 'GEHU', 3: 8, (1, 2): 'tuple Key', True: 'Yes'}\n",
      "{'Name': 'Yash', 3: 8, True: 'Yes', None: 'Nothing', (1, 2): 'tuple key'}\n"
     ]
    }
   ],
   "source": [
    "# creating dictionary using initial values\n",
    "\n",
    "user_a = {\n",
    "    'name' : 'Yash Khati',\n",
    "    'University' : \"GEHU\",\n",
    "    3 : 8,\n",
    "    (1,2) : \"tuple Key\",\n",
    "    True : \"Yes\",\n",
    "    None : \"None Value\",\n",
    "}\n",
    "print(user_a)\n",
    "\n",
    "\n",
    "user_b = dict(name = 'Yash',University = \"GEHU\" )\n",
    "user_b[3] = 8\n",
    "user_b[(1, 2)] = \"tuple Key\"\n",
    "user_b[True] = \"Yes\"\n",
    "\n",
    "print(user_b)\n",
    "\n",
    "\n",
    "user_c = dict([\n",
    "    ('Name', 'Yash'),\n",
    "    (3, 8),\n",
    "    (True, \"Yes\"),\n",
    "    (None, \"Nothing\"),\n",
    "    ((1, 2), \"tuple key\")\n",
    "])\n",
    "\n",
    "print(user_c)\n"
   ]
  },
  {
   "cell_type": "code",
   "execution_count": 1,
   "metadata": {},
   "outputs": [
    {
     "name": "stdout",
     "output_type": "stream",
     "text": [
      "Yes\n"
     ]
    }
   ],
   "source": [
    "user_a = {\n",
    "    'name' : 'Yash Khati',\n",
    "    1 : 8,\n",
    "    'University' : \"GEHU\",\n",
    "    (1,2) : \"tuple Key\",\n",
    "    True : \"Yes\",\n",
    "    None : \"None Value\",\n",
    "}\n",
    "\n",
    "print(user_a[1]) \n",
    "\n",
    "# Note ->  1 and True act as same i.e  print(user_a[1]) # \"Yes\" \n"
   ]
  },
  {
   "cell_type": "markdown",
   "metadata": {},
   "source": [
    "## Dictionary functions"
   ]
  },
  {
   "cell_type": "code",
   "execution_count": 3,
   "metadata": {},
   "outputs": [
    {
     "name": "stdout",
     "output_type": "stream",
     "text": [
      "{'name': 'Yash Khati', 'university': 'GEHU', 'Roll_No': 2018821, (1, 2): 'tuple Key', True: 'Yes'}\n"
     ]
    }
   ],
   "source": [
    "# Updation of key-value pair\n",
    "user_a = {\n",
    "    'name' : 'Yash Khati',\n",
    "    'university' : \"GEHU\",\n",
    "    'Roll_No' : 2018877,\n",
    "    (1,2) : \"tuple Key\",\n",
    "    True : \"Yes\",\n",
    "}\n",
    "\n",
    "user_a['Roll_No'] = 2018821 \n",
    "\n",
    "print(user_a) # {'name': 'Yash Khati', 'university': 'GEHU', 'Roll_No': 2018821, (1, 2): 'tuple Key', True: 'Yes'}"
   ]
  },
  {
   "cell_type": "code",
   "execution_count": 7,
   "metadata": {},
   "outputs": [
    {
     "name": "stdout",
     "output_type": "stream",
     "text": [
      "{'name': 'Ayush Rawat', 'university': 'GEHU', 'Roll_No': 2018877, (1, 2): 'tuple Key', True: 'No'}\n",
      "{'name': 'Yash', 'university': 'GEHU', 'Roll_No': 2018877, (1, 2): 'tuple Key', True: 'No', 'Semester': 8}\n"
     ]
    }
   ],
   "source": [
    "# update()\n",
    "\n",
    "user_a = {\n",
    "    'name' : 'Yash Khati',\n",
    "    'university' : \"GEHU\",\n",
    "    'Roll_No' : 2018877,\n",
    "    (1,2) : \"tuple Key\",\n",
    "    True : \"Yes\",\n",
    "}\n",
    "\n",
    "user_a.update( {True : \"No\", 'name' : \"Ayush Rawat\"} )\n",
    "print(user_a) # {'name': 'Ayush Rawat', 'university': 'GEHU', 'Roll_No': 2018877, (1, 2): 'tuple Key', True: 'No'}\n",
    "\n",
    "\n",
    "\n",
    "# updation using another dictionary\n",
    "user_b = {\n",
    "    \"name\" : \"Yash\",\n",
    "    \"university\" : \"GEHU\",\n",
    "    \"Semester\" : 8,\n",
    "}\n",
    "\n",
    "user_a.update(user_b)\n",
    "print(user_a) # {'name': 'Yash', 'university': 'GEHU', 'Roll_No': 2018877, (1, 2): 'tuple Key', True: 'No'}"
   ]
  },
  {
   "cell_type": "code",
   "execution_count": 10,
   "metadata": {},
   "outputs": [
    {
     "name": "stdout",
     "output_type": "stream",
     "text": [
      "Yash Khati\n",
      "N/A\n"
     ]
    }
   ],
   "source": [
    "# get(key, default value) to fetch value from dictionary\n",
    "\n",
    "user_a = {\n",
    "    'name' : 'Yash Khati',\n",
    "    'university' : \"GEHU\",\n",
    "    'Roll_No' : 2018877,\n",
    "    (1,2) : \"tuple Key\",\n",
    "    True : \"Yes\",\n",
    "}\n",
    "\n",
    "print(user_a.get('name'))\n",
    "\n",
    "print(user_a.get('Section' , 'N/A'))"
   ]
  },
  {
   "cell_type": "code",
   "execution_count": 11,
   "metadata": {},
   "outputs": [
    {
     "name": "stdout",
     "output_type": "stream",
     "text": [
      "dict_keys(['name', 'university', 'Roll_No', (1, 2), True])\n",
      "dict_values(['Yash Khati', 'GEHU', 2018877, 'tuple Key', 'Yes'])\n",
      "dict_items([('name', 'Yash Khati'), ('university', 'GEHU'), ('Roll_No', 2018877), ((1, 2), 'tuple Key'), (True, 'Yes')])\n"
     ]
    }
   ],
   "source": [
    "user_a = {\n",
    "    'name' : 'Yash Khati',\n",
    "    'university' : \"GEHU\",\n",
    "    'Roll_No' : 2018877,\n",
    "    (1,2) : \"tuple Key\",\n",
    "    True : \"Yes\",\n",
    "}\n",
    "\n",
    "# get all keys : \n",
    "print(user_a.keys()) # dict_keys(['name', 'university', 'Roll_No', (1, 2), True])\n",
    "\n",
    "# get all values : \n",
    "print(user_a.values()) # dict_values(['Yash Khati', 'GEHU', 2018877, 'tuple Key', 'Yes'])\n",
    "\n",
    "# get all items : \n",
    "print(user_a.items())\n",
    "# dict_items([('name', 'Yash Khati'), ('university', 'GEHU'), ('Roll_No', 2018877), ((1, 2), 'tuple Key'), (True, 'Yes')])"
   ]
  },
  {
   "cell_type": "code",
   "execution_count": 12,
   "metadata": {},
   "outputs": [
    {
     "name": "stdout",
     "output_type": "stream",
     "text": [
      "Yash Khati\n",
      "No Available Value\n"
     ]
    }
   ],
   "source": [
    "# pop(element, default)\n",
    "\n",
    "user_a = {\n",
    "    'name' : 'Yash Khati',\n",
    "    'university' : \"GEHU\",\n",
    "    'Roll_No' : 2018877,\n",
    "    False : \"No\",\n",
    "}\n",
    "\n",
    "print( user_a.pop(\"name\"))\n",
    "\n",
    "print(user_a.pop('Section', \"No Available Value\"))\n"
   ]
  },
  {
   "cell_type": "code",
   "execution_count": 15,
   "metadata": {},
   "outputs": [
    {
     "name": "stdout",
     "output_type": "stream",
     "text": [
      "(False, 'No')\n"
     ]
    }
   ],
   "source": [
    "# popitem()\n",
    "\n",
    "user_a = {\n",
    "    'name' : 'Yash Khati',\n",
    "    'university' : \"GEHU\",\n",
    "    'Roll_No' : 2018877,\n",
    "    False : \"No\",\n",
    "}\n",
    "\n",
    "print( user_a.popitem()) \n"
   ]
  },
  {
   "cell_type": "code",
   "execution_count": 17,
   "metadata": {},
   "outputs": [
    {
     "name": "stdout",
     "output_type": "stream",
     "text": [
      "Yash Khati\n",
      "C\n",
      "{'name': 'Yash Khati', 'university': 'GEHU', 'Roll_No': 2018877, False: 'No', 'Section': 'C'}\n"
     ]
    }
   ],
   "source": [
    "# setdefault\n",
    "user_a = {\n",
    "    'name' : 'Yash Khati',\n",
    "    'university' : \"GEHU\",\n",
    "    'Roll_No' : 2018877,\n",
    "    False : \"No\",\n",
    "}\n",
    "print(user_a.setdefault(\"name\", \"Ayush\")) # Yash Khati\n",
    "print(user_a.setdefault(\"Section\", \"C\")) # C\n",
    "print(user_a) # {'name': 'Yash Khati', 'university': 'GEHU', 'Roll_No': 2018877, False: 'No', 'Section': 'C'}"
   ]
  },
  {
   "cell_type": "code",
   "execution_count": 2,
   "metadata": {},
   "outputs": [
    {
     "name": "stdout",
     "output_type": "stream",
     "text": [
      "{'name': 'Yash', 'university': 'Gehu', 'Roll No': {'univ': 2018177, 'stud id': 2001121}}\n",
      "{'name': 'Yash', 'university': 'Gehu', 'Roll No': {'univ': 20112, 'stud id': 2001121}}\n",
      "{'name': 'Ayush', 'university': 'Gehu', 'Roll No': {'univ': 20112, 'stud id': 2001121}}\n"
     ]
    }
   ],
   "source": [
    "# copy()\n",
    "user_a = {\n",
    "    \"name\" : \"Yash\",\n",
    "    \"university\" : \"Gehu\",\n",
    "    \"Roll No\" : {\n",
    "        \"univ\" : 2018177,\n",
    "        \"stud id\" : 2001121\n",
    "    }\n",
    "} \n",
    "\n",
    "user_b = user_a.copy()\n",
    "print(user_b) # {'name': 'Yash', 'university': 'Gehu', 'Roll No': {'univ': 2018177, 'stud id': 2001121}}\n",
    "\n",
    "user_b['name'] = 'Ayush'\n",
    "user_b['Roll No']['univ'] = 20112\n",
    "\n",
    "print(user_a) # {'name': 'Yash', 'university': 'Gehu', 'Roll No': {'univ': 20112, 'stud id': 2001121}}\n",
    "\n",
    "print(user_b) # {'name': 'Ayush', 'university': 'Gehu', 'Roll No': {'univ': 20112, 'stud id': 2001121}}"
   ]
  },
  {
   "cell_type": "code",
   "execution_count": 5,
   "metadata": {},
   "outputs": [
    {
     "name": "stdout",
     "output_type": "stream",
     "text": [
      "{1: 33, 2: 33, 3: 33}\n"
     ]
    }
   ],
   "source": [
    "# fromkeys()\n",
    "\n",
    "ls = [1, 2, 3]\n",
    "\n",
    "user_A = dict.fromkeys(ls,33)\n",
    "print(user_A)"
   ]
  },
  {
   "cell_type": "code",
   "execution_count": null,
   "metadata": {},
   "outputs": [],
   "source": []
  }
 ],
 "metadata": {
  "kernelspec": {
   "display_name": "Python 3",
   "language": "python",
   "name": "python3"
  },
  "language_info": {
   "codemirror_mode": {
    "name": "ipython",
    "version": 3
   },
   "file_extension": ".py",
   "mimetype": "text/x-python",
   "name": "python",
   "nbconvert_exporter": "python",
   "pygments_lexer": "ipython3",
   "version": "3.10.13"
  }
 },
 "nbformat": 4,
 "nbformat_minor": 2
}
