{
 "cells": [
  {
   "cell_type": "markdown",
   "metadata": {},
   "source": [
    "## Creating Dictionary"
   ]
  },
  {
   "cell_type": "code",
   "execution_count": 5,
   "metadata": {},
   "outputs": [
    {
     "name": "stdout",
     "output_type": "stream",
     "text": [
      "<class 'dict'>\n",
      "{}\n",
      "<class 'dict'>\n",
      "{}\n"
     ]
    }
   ],
   "source": [
    "# creating empty dictionary\n",
    "user_a = {}\n",
    "print(type(user_a))\n",
    "print(user_a)\n",
    "\n",
    "\n",
    "user_b = dict()\n",
    "print(type(user_b))\n",
    "print(user_b)"
   ]
  },
  {
   "cell_type": "code",
   "execution_count": 18,
   "metadata": {},
   "outputs": [
    {
     "name": "stdout",
     "output_type": "stream",
     "text": [
      "{'name': 'Yash Khati', 'University': 'GEHU', 3: 8, (1, 2): 'tuple Key', True: 'Yes', None: 'None Value'}\n",
      "{'name': 'Yash', 'University': 'GEHU', 3: 8, (1, 2): 'tuple Key', True: 'Yes'}\n"
     ]
    }
   ],
   "source": [
    "# creating dictionary using initial values\n",
    "\n",
    "user_a = {\n",
    "    'name' : 'Yash Khati',\n",
    "    'University' : \"GEHU\",\n",
    "    3 : 8,\n",
    "    (1,2) : \"tuple Key\",\n",
    "    True : \"Yes\",\n",
    "    None : \"None Value\",\n",
    "}\n",
    "print(user_a)\n",
    "\n",
    "\n",
    "user_b = dict(name = 'Yash',University = \"GEHU\" )\n",
    "user_b[3] = 8\n",
    "user_b[(1, 2)] = \"tuple Key\"\n",
    "user_b[True] = \"Yes\"\n",
    "\n",
    "print(user_b)"
   ]
  },
  {
   "cell_type": "code",
   "execution_count": null,
   "metadata": {},
   "outputs": [],
   "source": []
  }
 ],
 "metadata": {
  "kernelspec": {
   "display_name": "Python 3",
   "language": "python",
   "name": "python3"
  },
  "language_info": {
   "codemirror_mode": {
    "name": "ipython",
    "version": 3
   },
   "file_extension": ".py",
   "mimetype": "text/x-python",
   "name": "python",
   "nbconvert_exporter": "python",
   "pygments_lexer": "ipython3",
   "version": "3.10.13"
  }
 },
 "nbformat": 4,
 "nbformat_minor": 2
}
