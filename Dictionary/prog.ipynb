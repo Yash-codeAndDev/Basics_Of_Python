{
 "cells": [
  {
   "cell_type": "markdown",
   "metadata": {},
   "source": [
    "## Creating Dictionary"
   ]
  },
  {
   "cell_type": "code",
   "execution_count": 5,
   "metadata": {},
   "outputs": [
    {
     "name": "stdout",
     "output_type": "stream",
     "text": [
      "<class 'dict'>\n",
      "{}\n",
      "<class 'dict'>\n",
      "{}\n"
     ]
    }
   ],
   "source": [
    "# creating empty dictionary\n",
    "user_a = {}\n",
    "print(type(user_a))\n",
    "print(user_a)\n",
    "\n",
    "\n",
    "user_b = dict()\n",
    "print(type(user_b))\n",
    "print(user_b)"
   ]
  },
  {
   "cell_type": "code",
   "execution_count": 20,
   "metadata": {},
   "outputs": [
    {
     "name": "stdout",
     "output_type": "stream",
     "text": [
      "{'name': 'Yash Khati', 'University': 'GEHU', 3: 8, (1, 2): 'tuple Key', True: 'Yes', None: 'None Value'}\n",
      "{'name': 'Yash', 'University': 'GEHU', 3: 8, (1, 2): 'tuple Key', True: 'Yes'}\n",
      "{'Name': 'Yash', 3: 8, True: 'Yes', None: 'Nothing', (1, 2): 'tuple key'}\n"
     ]
    }
   ],
   "source": [
    "# creating dictionary using initial values\n",
    "\n",
    "user_a = {\n",
    "    'name' : 'Yash Khati',\n",
    "    'University' : \"GEHU\",\n",
    "    3 : 8,\n",
    "    (1,2) : \"tuple Key\",\n",
    "    True : \"Yes\",\n",
    "    None : \"None Value\",\n",
    "}\n",
    "print(user_a)\n",
    "\n",
    "\n",
    "user_b = dict(name = 'Yash',University = \"GEHU\" )\n",
    "user_b[3] = 8\n",
    "user_b[(1, 2)] = \"tuple Key\"\n",
    "user_b[True] = \"Yes\"\n",
    "\n",
    "print(user_b)\n",
    "\n",
    "\n",
    "user_c = dict([\n",
    "    ('Name', 'Yash'),\n",
    "    (3, 8),\n",
    "    (True, \"Yes\"),\n",
    "    (None, \"Nothing\"),\n",
    "    ((1, 2), \"tuple key\")\n",
    "])\n",
    "\n",
    "print(user_c)\n"
   ]
  },
  {
   "cell_type": "code",
   "execution_count": 1,
   "metadata": {},
   "outputs": [
    {
     "name": "stdout",
     "output_type": "stream",
     "text": [
      "Yes\n"
     ]
    }
   ],
   "source": [
    "user_a = {\n",
    "    'name' : 'Yash Khati',\n",
    "    1 : 8,\n",
    "    'University' : \"GEHU\",\n",
    "    (1,2) : \"tuple Key\",\n",
    "    True : \"Yes\",\n",
    "    None : \"None Value\",\n",
    "}\n",
    "\n",
    "print(user_a[1]) \n",
    "\n",
    "# Note ->  1 and True act as same i.e  print(user_a[1]) # \"Yes\" \n"
   ]
  },
  {
   "cell_type": "markdown",
   "metadata": {},
   "source": [
    "## Dictionary functions"
   ]
  },
  {
   "cell_type": "code",
   "execution_count": 3,
   "metadata": {},
   "outputs": [
    {
     "name": "stdout",
     "output_type": "stream",
     "text": [
      "{'name': 'Yash Khati', 'university': 'GEHU', 'Roll_No': 2018821, (1, 2): 'tuple Key', True: 'Yes'}\n"
     ]
    }
   ],
   "source": [
    "# Updation of key-value pair\n",
    "user_a = {\n",
    "    'name' : 'Yash Khati',\n",
    "    'university' : \"GEHU\",\n",
    "    'Roll_No' : 2018877,\n",
    "    (1,2) : \"tuple Key\",\n",
    "    True : \"Yes\",\n",
    "}\n",
    "\n",
    "user_a['Roll_No'] = 2018821 \n",
    "\n",
    "print(user_a) # {'name': 'Yash Khati', 'university': 'GEHU', 'Roll_No': 2018821, (1, 2): 'tuple Key', True: 'Yes'}"
   ]
  },
  {
   "cell_type": "code",
   "execution_count": 7,
   "metadata": {},
   "outputs": [
    {
     "name": "stdout",
     "output_type": "stream",
     "text": [
      "{'name': 'Ayush Rawat', 'university': 'GEHU', 'Roll_No': 2018877, (1, 2): 'tuple Key', True: 'No'}\n",
      "{'name': 'Yash', 'university': 'GEHU', 'Roll_No': 2018877, (1, 2): 'tuple Key', True: 'No', 'Semester': 8}\n"
     ]
    }
   ],
   "source": [
    "# update()\n",
    "\n",
    "user_a = {\n",
    "    'name' : 'Yash Khati',\n",
    "    'university' : \"GEHU\",\n",
    "    'Roll_No' : 2018877,\n",
    "    (1,2) : \"tuple Key\",\n",
    "    True : \"Yes\",\n",
    "}\n",
    "\n",
    "user_a.update( {True : \"No\", 'name' : \"Ayush Rawat\"} )\n",
    "print(user_a) # {'name': 'Ayush Rawat', 'university': 'GEHU', 'Roll_No': 2018877, (1, 2): 'tuple Key', True: 'No'}\n",
    "\n",
    "\n",
    "\n",
    "# updation using another dictionary\n",
    "user_b = {\n",
    "    \"name\" : \"Yash\",\n",
    "    \"university\" : \"GEHU\",\n",
    "    \"Semester\" : 8,\n",
    "}\n",
    "\n",
    "user_a.update(user_b)\n",
    "print(user_a) # {'name': 'Yash', 'university': 'GEHU', 'Roll_No': 2018877, (1, 2): 'tuple Key', True: 'No'}"
   ]
  },
  {
   "cell_type": "code",
   "execution_count": null,
   "metadata": {},
   "outputs": [],
   "source": []
  }
 ],
 "metadata": {
  "kernelspec": {
   "display_name": "Python 3",
   "language": "python",
   "name": "python3"
  },
  "language_info": {
   "codemirror_mode": {
    "name": "ipython",
    "version": 3
   },
   "file_extension": ".py",
   "mimetype": "text/x-python",
   "name": "python",
   "nbconvert_exporter": "python",
   "pygments_lexer": "ipython3",
   "version": "3.10.13"
  }
 },
 "nbformat": 4,
 "nbformat_minor": 2
}
