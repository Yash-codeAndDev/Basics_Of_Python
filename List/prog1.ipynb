{
 "cells": [
  {
   "cell_type": "code",
   "execution_count": 2,
   "metadata": {},
   "outputs": [
    {
     "name": "stdout",
     "output_type": "stream",
     "text": [
      "[]\n",
      "[]\n"
     ]
    }
   ],
   "source": [
    "# Creating Empty List\n",
    "list_b = []\n",
    "list_a = list()\n",
    "\n",
    "print(list_a)\n",
    "print(list_b)"
   ]
  },
  {
   "cell_type": "code",
   "execution_count": 3,
   "metadata": {},
   "outputs": [
    {
     "name": "stdout",
     "output_type": "stream",
     "text": [
      "['Yash', 23, 'GEHU']\n",
      "['Iron Man', 2013, 'Thor']\n",
      "['name', 'age', 'Colleg']\n"
     ]
    }
   ],
   "source": [
    "# Creating List with default values\n",
    "list_one = [\"Yash\" , 23, \"GEHU\"]\n",
    "tuple_two = (\"Iron Man\" , 2013 , \"Thor\")    \n",
    "list_two = list( tuple_two)\n",
    "\n",
    "print(list_one) # [\"Yash\" , 23, \"GEHU\"]\n",
    "print(list_two) # [\"Iron Man\" , 2013 , \"Thor\"]\n",
    "\n",
    "\n",
    "dict_one = { \"name\" : \"Yash\" , \"age\" : 23 , \"Colleg\" :\"GEHU\"}\n",
    "list_three = list( dict_one)\n",
    "print(list_three) # ['name', 'age', 'Colleg']"
   ]
  },
  {
   "cell_type": "markdown",
   "metadata": {},
   "source": [
    "## List Functions"
   ]
  },
  {
   "cell_type": "code",
   "execution_count": 13,
   "metadata": {},
   "outputs": [
    {
     "name": "stdout",
     "output_type": "stream",
     "text": [
      "['Yash', 23, True]\n",
      "['Yash', 23, True, 'GEHU']\n",
      "['Yash', 23, True, 'GEHU', ['Iron Man', 'Thor', 2023]]\n",
      "['Yash', 23, True, 'GEHU', ['Iron Man', 'Thor', 2023], (13, 'Sep')]\n"
     ]
    }
   ],
   "source": [
    "# Appending Elements in List\n",
    "\n",
    "list_a = [\"Yash\" , 23 , True]\n",
    "print(list_a)\n",
    "\n",
    "list_a.append(\"GEHU\") # adding single element at a time\n",
    "print(list_a)\n",
    "\n",
    "list_a.append( [\"Iron Man\", \"Thor\", 2023])\n",
    "print(list_a)\n",
    "\n",
    "list_a.append((13,\"Sep\"))\n",
    "print(list_a)\n"
   ]
  },
  {
   "cell_type": "code",
   "execution_count": 14,
   "metadata": {},
   "outputs": [
    {
     "name": "stdout",
     "output_type": "stream",
     "text": [
      "['Yash', 23, True]\n",
      "['Yash', 23, True, 'Iron Man', 'Thor', 2020]\n"
     ]
    }
   ],
   "source": [
    "# Adding multiple elements on List\n",
    "\n",
    "list_a = [\"Yash\" , 23 , True]\n",
    "print(list_a)\n",
    "\n",
    "list_a.extend((\"Iron Man\", \"Thor\", 2020)) # Covnert Ittrable to list components\n",
    "print(list_a) # ['Yash', 23, True, 'Iron Man', 'Thor', 2020]"
   ]
  },
  {
   "cell_type": "code",
   "execution_count": 4,
   "metadata": {},
   "outputs": [
    {
     "name": "stdout",
     "output_type": "stream",
     "text": [
      "['Yash', 23, True]\n",
      "['Yash', 'GEHU', 23, True]\n",
      "['Yash', 'GEHU', 23, True, 'Iron Man']\n",
      "['Yash', 'GEHU', 23, True, 'Hulk', 'Iron Man']\n"
     ]
    }
   ],
   "source": [
    "# inserting element in list\n",
    "list_a = [\"Yash\" , 23 , True]\n",
    "print(list_a)\n",
    "\n",
    "list_a.insert(1,\"GEHU\")\n",
    "print(list_a)\n",
    "\n",
    "list_a.insert(5,\"Iron Man\")\n",
    "print(list_a)\n",
    "\n",
    "\n",
    "list_a.insert(-1,\"Hulk\")\n",
    "print(list_a)\n"
   ]
  },
  {
   "cell_type": "code",
   "execution_count": 9,
   "metadata": {},
   "outputs": [
    {
     "name": "stdout",
     "output_type": "stream",
     "text": [
      "['Yash', 'GEHU', 23, 'Hulk', 'Iron Man']\n"
     ]
    }
   ],
   "source": [
    "# Removing element form the List\n",
    "\n",
    "list_a = ['Yash', 'GEHU', 23, True, 'Hulk', 'Iron Man']\n",
    "\n",
    "list_a.remove(True)\n",
    "print(list_a)\n",
    "\n",
    "# list_a.remove(20)"
   ]
  },
  {
   "cell_type": "code",
   "execution_count": 3,
   "metadata": {},
   "outputs": [
    {
     "name": "stdout",
     "output_type": "stream",
     "text": [
      "removed_element : Iron Man , -> new list ['Yash', 'GEHU', 23, True, 'Hulk']\n",
      "['Yash', 23, True, 'Hulk']\n"
     ]
    }
   ],
   "source": [
    "# Pop element from list\n",
    "list_a = ['Yash', 'GEHU', 23, True, 'Hulk', 'Iron Man']\n",
    "removed_element = list_a.pop()\n",
    "print(\"removed_element : {} , -> new list {}\".format(removed_element, list_a))\n",
    "\n",
    "remover_element = list_a.pop(1)\n",
    "print(list_a)"
   ]
  },
  {
   "cell_type": "code",
   "execution_count": null,
   "metadata": {},
   "outputs": [],
   "source": []
  }
 ],
 "metadata": {
  "kernelspec": {
   "display_name": "Python 3",
   "language": "python",
   "name": "python3"
  },
  "language_info": {
   "codemirror_mode": {
    "name": "ipython",
    "version": 3
   },
   "file_extension": ".py",
   "mimetype": "text/x-python",
   "name": "python",
   "nbconvert_exporter": "python",
   "pygments_lexer": "ipython3",
   "version": "3.10.13"
  }
 },
 "nbformat": 4,
 "nbformat_minor": 2
}
