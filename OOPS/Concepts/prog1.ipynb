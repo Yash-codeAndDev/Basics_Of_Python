{
 "cells": [
  {
   "cell_type": "code",
   "execution_count": 1,
   "metadata": {},
   "outputs": [],
   "source": [
    "class TheSimplestClass:\n",
    "    pass"
   ]
  },
  {
   "cell_type": "code",
   "execution_count": 2,
   "metadata": {},
   "outputs": [],
   "source": [
    "my_first_object = TheSimplestClass()"
   ]
  },
  {
   "cell_type": "code",
   "execution_count": 7,
   "metadata": {},
   "outputs": [
    {
     "name": "stdout",
     "output_type": "stream",
     "text": [
      "1\n",
      "2\n",
      "3\n"
     ]
    }
   ],
   "source": [
    "class Stack:\n",
    "    def __init__(self):\n",
    "        self.__stack_list = []\n",
    "\n",
    "\n",
    "    def push(self, val):\n",
    "        self.__stack_list.append(val)\n",
    "\n",
    "\n",
    "    def pop(self):\n",
    "        val = self.__stack_list[-1]\n",
    "        del self.__stack_list[-1]\n",
    "        return val\n",
    "\n",
    "\n",
    "stack_object = Stack()\n",
    "\n",
    "stack_object.push(3)\n",
    "stack_object.push(2)\n",
    "stack_object.push(1)\n",
    "\n",
    "print(stack_object.pop())\n",
    "print(stack_object.pop())\n",
    "print(stack_object.pop())\n"
   ]
  },
  {
   "cell_type": "code",
   "execution_count": 8,
   "metadata": {},
   "outputs": [
    {
     "name": "stdout",
     "output_type": "stream",
     "text": [
      "3\n"
     ]
    }
   ],
   "source": [
    "stack_object_1 = Stack()\n",
    "stack_object_2 = Stack()\n",
    "\n",
    "stack_object_1.push(3)\n",
    "stack_object_2.push(stack_object_1.pop())\n",
    "\n",
    "print(stack_object_2.pop())\n"
   ]
  },
  {
   "cell_type": "code",
   "execution_count": 21,
   "metadata": {},
   "outputs": [
    {
     "name": "stdout",
     "output_type": "stream",
     "text": [
      "10\n",
      "4\n",
      "3\n",
      "2\n",
      "1\n",
      "0\n"
     ]
    }
   ],
   "source": [
    "class Stack:\n",
    "    def __init__(self):\n",
    "        self.__stack_list = []\n",
    "\n",
    "    def push(self, val):\n",
    "        self.__stack_list.append(val)\n",
    "\n",
    "    def pop(self):\n",
    "        val = self.__stack_list[-1]\n",
    "        del self.__stack_list[-1]\n",
    "        return val\n",
    "\n",
    "\n",
    "class AddingStack(Stack):\n",
    "    def __init__(self):\n",
    "        Stack.__init__(self)\n",
    "        self.__sum = 0\n",
    "\n",
    "    def get_sum(self):\n",
    "        return self.__sum\n",
    "\n",
    "    def push(self, val):\n",
    "        self.__sum += val\n",
    "        Stack.push(self, val)\n",
    "\n",
    "    def pop(self):\n",
    "        val = Stack.pop(self)\n",
    "        self.__sum -= val\n",
    "        return val\n",
    "\n",
    "\n",
    "stack_object = AddingStack()\n",
    "\n",
    "for i in range(5):\n",
    "    stack_object.push(i)\n",
    "print(stack_object.get_sum())\n",
    "\n",
    "for i in range(5):\n",
    "    print(stack_object.pop())\n"
   ]
  },
  {
   "cell_type": "markdown",
   "metadata": {},
   "source": []
  },
  {
   "cell_type": "code",
   "execution_count": 6,
   "metadata": {},
   "outputs": [
    {
     "name": "stdout",
     "output_type": "stream",
     "text": [
      "{'first': 1}\n",
      "{'first': 2, 'second': 3}\n",
      "{'first': 4, 'third': 5}\n",
      "{'first': 1} 3\n",
      "{'first': 2, 'second': 3} 3\n",
      "{'first': 4, 'third': 5} 3\n"
     ]
    }
   ],
   "source": [
    "class ExampleClass:\n",
    "    # class variable\n",
    "    counter = 0\n",
    "\n",
    "    def __init__(self, val = 1):\n",
    "        self.first = val\n",
    "        ExampleClass.counter += 1\n",
    "\n",
    "    def set_second(self, val):\n",
    "        self.second = val\n",
    "\n",
    "\n",
    "example_object_1 = ExampleClass()\n",
    "example_object_2 = ExampleClass(2)\n",
    "\n",
    "example_object_2.set_second(3)\n",
    "\n",
    "example_object_3 = ExampleClass(4)\n",
    "example_object_3.third = 5\n",
    "\n",
    "print(example_object_1.__dict__)\n",
    "print(example_object_2.__dict__)\n",
    "print(example_object_3.__dict__)\n",
    "\n",
    "\n",
    "print(example_object_1.__dict__, example_object_1.counter)\n",
    "print(example_object_2.__dict__, example_object_2.counter)\n",
    "print(example_object_3.__dict__, example_object_3.counter)\n",
    "\n"
   ]
  },
  {
   "cell_type": "code",
   "execution_count": 12,
   "metadata": {},
   "outputs": [
    {
     "name": "stdout",
     "output_type": "stream",
     "text": [
      "1\n",
      "No property named b\n",
      "True\n",
      "True\n",
      "False\n"
     ]
    }
   ],
   "source": [
    "class ExampleClassTwo:\n",
    "\n",
    "    class_var = 0\n",
    "    def __init__(self, val):\n",
    "        if val % 2 != 0:\n",
    "            self.a = 1\n",
    "        else:\n",
    "            self.b = 1\n",
    "\n",
    "\n",
    "example_two_object = ExampleClassTwo(1)\n",
    "print(example_two_object.a)\n",
    "\n",
    "'''\n",
    "try:\n",
    "    print(example_two_object.b)\n",
    "except AttributeError:\n",
    "    print(\"Property does not exist\")\n",
    "'''\n",
    "\n",
    "\n",
    "if hasattr(example_two_object, 'b'):\n",
    "    print(example_two_object.b)\n",
    "else:\n",
    "    print(\"No property named b\")\n",
    "\n",
    "# Checking if class/object contains attribute\n",
    "\n",
    "print(hasattr(ExampleClassTwo,'class_var'))\n",
    "print(hasattr(example_two_object,'a'))\n",
    "print(hasattr(example_two_object,'b'))\n"
   ]
  },
  {
   "cell_type": "code",
   "execution_count": 19,
   "metadata": {},
   "outputs": [
    {
     "name": "stdout",
     "output_type": "stream",
     "text": [
      "failed\n",
      "{'var': 2}\n",
      "{'__module__': '__main__', 'classy_var': 1, '__init__': <function Classy.__init__ at 0x7f43dab1cfe0>, '_Classy__hidden': <function Classy.__hidden at 0x7f43dab1f880>, 'method': <function Classy.method at 0x7f43dab1f7e0>, '__dict__': <attribute '__dict__' of 'Classy' objects>, '__weakref__': <attribute '__weakref__' of 'Classy' objects>, '__doc__': None}\n",
      "__main__\n"
     ]
    }
   ],
   "source": [
    "class Classy:\n",
    "    classy_var = 1\n",
    "    def __init__(self):\n",
    "        self.var = 2\n",
    "    \n",
    "    def __hidden(self):\n",
    "        pass\n",
    "\n",
    "    def method(self):\n",
    "        pass\n",
    "\n",
    "obj = Classy()\n",
    "\n",
    "try:\n",
    "    obj.__hidden()\n",
    "except:\n",
    "    print(\"failed\")\n",
    "\n",
    "print(obj.__dict__)\n",
    "print(Classy.__dict__)\n",
    "\n",
    "print(Classy.__module__)\n"
   ]
  },
  {
   "cell_type": "code",
   "execution_count": 20,
   "metadata": {},
   "outputs": [
    {
     "name": "stdout",
     "output_type": "stream",
     "text": [
      "( object )\n",
      "( object )\n",
      "( SuperOne SuperTwo )\n"
     ]
    }
   ],
   "source": [
    "class SuperOne:\n",
    "    pass\n",
    "\n",
    "\n",
    "class SuperTwo:\n",
    "    pass\n",
    "\n",
    "\n",
    "class Sub(SuperOne, SuperTwo):\n",
    "    pass\n",
    "\n",
    "\n",
    "def printBases(cls):\n",
    "    print('( ', end='')\n",
    "\n",
    "    for x in cls.__bases__:\n",
    "        print(x.__name__, end=' ')\n",
    "    print(')')\n",
    "\n",
    "\n",
    "printBases(SuperOne)\n",
    "printBases(SuperTwo)\n",
    "printBases(Sub)\n"
   ]
  },
  {
   "cell_type": "code",
   "execution_count": null,
   "metadata": {},
   "outputs": [],
   "source": []
  }
 ],
 "metadata": {
  "kernelspec": {
   "display_name": "Python 3",
   "language": "python",
   "name": "python3"
  },
  "language_info": {
   "codemirror_mode": {
    "name": "ipython",
    "version": 3
   },
   "file_extension": ".py",
   "mimetype": "text/x-python",
   "name": "python",
   "nbconvert_exporter": "python",
   "pygments_lexer": "ipython3",
   "version": "3.12.1"
  }
 },
 "nbformat": 4,
 "nbformat_minor": 2
}
