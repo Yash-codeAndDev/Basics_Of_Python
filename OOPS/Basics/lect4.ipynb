{
 "cells": [
  {
   "cell_type": "markdown",
   "metadata": {},
   "source": [
    "##### Inner Class"
   ]
  },
  {
   "cell_type": "code",
   "execution_count": 1,
   "metadata": {},
   "outputs": [
    {
     "name": "stdout",
     "output_type": "stream",
     "text": [
      "Outer class Object Creation\n",
      "Inner Class Object Creation\n",
      "Inner Class Method\n",
      "\n",
      "Outer class Object Creation\n",
      "Inner Class Object Creation\n",
      "\n",
      "Outer class Object Creation\n",
      "Inner Class Object Creation\n",
      "Inner Class Method\n",
      "\n"
     ]
    }
   ],
   "source": [
    "class Outer:\n",
    "    def __init__(self):\n",
    "        print(\"Outer class Object Creation\")\n",
    "    \n",
    "    class Inner:\n",
    "        def __init__(self):\n",
    "            print(\"Inner Class Object Creation\")\n",
    "        def m1(self):\n",
    "            print(\"Inner Class Method\")\n",
    "           \n",
    "\n",
    "obj = Outer()\n",
    "i = obj.Inner()\n",
    "i.m1()\n",
    "print()\n",
    "obj2 = Outer().Inner()\n",
    "print()\n",
    "obj3 = Outer().Inner().m1()\n",
    "print()\n"
   ]
  },
  {
   "cell_type": "code",
   "execution_count": 2,
   "metadata": {},
   "outputs": [
    {
     "name": "stdout",
     "output_type": "stream",
     "text": [
      "Name :  Yash\n",
      "13/9/2002\n",
      "Outer class object destroyed\n",
      "Inner class object destroyed\n"
     ]
    }
   ],
   "source": [
    "class Person:\n",
    "    def __init__(self,name) -> None:\n",
    "        self.name = name\n",
    "        self.db = self.DOB()\n",
    "    \n",
    "    def __del__(self):\n",
    "        print(\"Outer class object destroyed\")\n",
    "\n",
    "    def display(self):\n",
    "        print(\"Name : \",self.name)\n",
    "    \n",
    "    class DOB:\n",
    "        def __init__(self) -> None:\n",
    "            self.dd = 13\n",
    "            self.mm = 9\n",
    "            self.yy = 2002\n",
    "\n",
    "        def __del__(self):\n",
    "            print(\"Inner class object destroyed\")\n",
    "        def display(self):\n",
    "            print(\"{}/{}/{}\".format(self.dd,self.mm,self.yy))\n",
    "\n",
    "\n",
    "p = Person(\"Yash\")\n",
    "p.display()\n",
    "p.db.display()   \n",
    "\n",
    "p=Person(\"Ayush\")"
   ]
  },
  {
   "cell_type": "code",
   "execution_count": 3,
   "metadata": {},
   "outputs": [
    {
     "name": "stdout",
     "output_type": "stream",
     "text": [
      "True\n"
     ]
    }
   ],
   "source": [
    "import gc\n",
    "# check if garbage collector is enabled\n",
    "print(gc.isenabled())"
   ]
  },
  {
   "cell_type": "code",
   "execution_count": null,
   "metadata": {},
   "outputs": [],
   "source": []
  },
  {
   "cell_type": "code",
   "execution_count": null,
   "metadata": {},
   "outputs": [],
   "source": []
  },
  {
   "cell_type": "code",
   "execution_count": null,
   "metadata": {},
   "outputs": [],
   "source": []
  }
 ],
 "metadata": {
  "kernelspec": {
   "display_name": "Python 3",
   "language": "python",
   "name": "python3"
  },
  "language_info": {
   "codemirror_mode": {
    "name": "ipython",
    "version": 3
   },
   "file_extension": ".py",
   "mimetype": "text/x-python",
   "name": "python",
   "nbconvert_exporter": "python",
   "pygments_lexer": "ipython3",
   "version": "3.10.13"
  }
 },
 "nbformat": 4,
 "nbformat_minor": 2
}
