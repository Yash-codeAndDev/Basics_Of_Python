{
 "cells": [
  {
   "cell_type": "markdown",
   "metadata": {},
   "source": [
    "##### Inner Class"
   ]
  },
  {
   "cell_type": "code",
   "execution_count": 5,
   "metadata": {},
   "outputs": [
    {
     "name": "stdout",
     "output_type": "stream",
     "text": [
      "Outer class Object Creation\n",
      "Inner Class Object Creation\n",
      "Inner Class Method\n",
      "\n",
      "Outer class Object Creation\n",
      "Inner Class Object Creation\n",
      "\n",
      "Outer class Object Creation\n",
      "Inner Class Object Creation\n",
      "Inner Class Method\n",
      "\n"
     ]
    }
   ],
   "source": [
    "class Outer:\n",
    "    def __init__(self):\n",
    "        print(\"Outer class Object Creation\")\n",
    "    \n",
    "    class Inner:\n",
    "        def __init__(self):\n",
    "            print(\"Inner Class Object Creation\")\n",
    "        def m1(self):\n",
    "            print(\"Inner Class Method\")\n",
    "           \n",
    "\n",
    "obj = Outer()\n",
    "i = obj.Inner()\n",
    "i.m1()\n",
    "print()\n",
    "obj2 = Outer().Inner()\n",
    "print()\n",
    "obj3 = Outer().Inner().m1()\n",
    "print()\n"
   ]
  },
  {
   "cell_type": "code",
   "execution_count": null,
   "metadata": {},
   "outputs": [],
   "source": []
  },
  {
   "cell_type": "code",
   "execution_count": null,
   "metadata": {},
   "outputs": [],
   "source": []
  }
 ],
 "metadata": {
  "kernelspec": {
   "display_name": "Python 3",
   "language": "python",
   "name": "python3"
  },
  "language_info": {
   "codemirror_mode": {
    "name": "ipython",
    "version": 3
   },
   "file_extension": ".py",
   "mimetype": "text/x-python",
   "name": "python",
   "nbconvert_exporter": "python",
   "pygments_lexer": "ipython3",
   "version": "3.10.13"
  }
 },
 "nbformat": 4,
 "nbformat_minor": 2
}
