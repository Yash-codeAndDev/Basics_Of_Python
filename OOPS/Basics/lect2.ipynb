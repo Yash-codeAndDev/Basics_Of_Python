{
 "cells": [
  {
   "cell_type": "markdown",
   "metadata": {},
   "source": [
    "# Static Variable\n",
    "* If the value of a variable is not varied from object to object, such type of variables we have to declare with in the class directly but outside of methods. Such type of variables are called Static variables.\n",
    "* For total class only one copy of static variable will be created and shared by all objects of that class.\n",
    "* We can access static variables either by class name or by object reference. But recommended to use class name."
   ]
  },
  {
   "cell_type": "code",
   "execution_count": 1,
   "metadata": {},
   "outputs": [
    {
     "name": "stdout",
     "output_type": "stream",
     "text": [
      "{'__module__': '__main__', 'a': 30, '__init__': <function PQR.__init__ at 0x7f074371e710>, 'm1': <function PQR.m1 at 0x7f074371d090>, 'm2': <classmethod(<function PQR.m2 at 0x7f074371e950>)>, 'm3': <function PQR.m3 at 0x7f074371e8c0>, '__dict__': <attribute '__dict__' of 'PQR' objects>, '__weakref__': <attribute '__weakref__' of 'PQR' objects>, '__doc__': None}\n"
     ]
    }
   ],
   "source": [
    "class PQR:\n",
    "    a = 30\n",
    "    def __init__(self) -> None:\n",
    "        self.b = 30\n",
    "        PQR.c = 40\n",
    "    def m1(self):\n",
    "        PQR.d = 50\n",
    "\n",
    "    @classmethod\n",
    "    def m2(cls):\n",
    "        cls.e = 60\n",
    "        PQR.f = 70\n",
    "    def m3():\n",
    "        PQR.g = 80\n",
    "\n",
    "print(PQR.__dict__)"
   ]
  },
  {
   "cell_type": "code",
   "execution_count": 2,
   "metadata": {},
   "outputs": [
    {
     "data": {
      "text/plain": [
       "mappingproxy({'__module__': '__main__',\n",
       "              'a': 30,\n",
       "              '__init__': <function __main__.PQR.__init__(self) -> None>,\n",
       "              'm1': <function __main__.PQR.m1(self)>,\n",
       "              'm2': <classmethod(<function PQR.m2 at 0x7f074371e950>)>,\n",
       "              'm3': <function __main__.PQR.m3()>,\n",
       "              '__dict__': <attribute '__dict__' of 'PQR' objects>,\n",
       "              '__weakref__': <attribute '__weakref__' of 'PQR' objects>,\n",
       "              '__doc__': None,\n",
       "              'c': 40})"
      ]
     },
     "execution_count": 2,
     "metadata": {},
     "output_type": "execute_result"
    }
   ],
   "source": [
    "t1 = PQR()\n",
    "PQR.__dict__"
   ]
  },
  {
   "cell_type": "code",
   "execution_count": 3,
   "metadata": {},
   "outputs": [
    {
     "data": {
      "text/plain": [
       "mappingproxy({'__module__': '__main__',\n",
       "              'a': 30,\n",
       "              '__init__': <function __main__.PQR.__init__(self) -> None>,\n",
       "              'm1': <function __main__.PQR.m1(self)>,\n",
       "              'm2': <classmethod(<function PQR.m2 at 0x7f074371e950>)>,\n",
       "              'm3': <function __main__.PQR.m3()>,\n",
       "              '__dict__': <attribute '__dict__' of 'PQR' objects>,\n",
       "              '__weakref__': <attribute '__weakref__' of 'PQR' objects>,\n",
       "              '__doc__': None,\n",
       "              'c': 40,\n",
       "              'd': 50})"
      ]
     },
     "execution_count": 3,
     "metadata": {},
     "output_type": "execute_result"
    }
   ],
   "source": [
    "t1.m1()\n",
    "PQR.__dict__"
   ]
  },
  {
   "cell_type": "code",
   "execution_count": 4,
   "metadata": {},
   "outputs": [
    {
     "data": {
      "text/plain": [
       "mappingproxy({'__module__': '__main__',\n",
       "              'a': 30,\n",
       "              '__init__': <function __main__.PQR.__init__(self) -> None>,\n",
       "              'm1': <function __main__.PQR.m1(self)>,\n",
       "              'm2': <classmethod(<function PQR.m2 at 0x7f074371e950>)>,\n",
       "              'm3': <function __main__.PQR.m3()>,\n",
       "              '__dict__': <attribute '__dict__' of 'PQR' objects>,\n",
       "              '__weakref__': <attribute '__weakref__' of 'PQR' objects>,\n",
       "              '__doc__': None,\n",
       "              'c': 40,\n",
       "              'd': 50,\n",
       "              'e': 60,\n",
       "              'f': 70})"
      ]
     },
     "execution_count": 4,
     "metadata": {},
     "output_type": "execute_result"
    }
   ],
   "source": [
    "PQR.m2()\n",
    "PQR.__dict__"
   ]
  },
  {
   "cell_type": "code",
   "execution_count": 5,
   "metadata": {},
   "outputs": [
    {
     "data": {
      "text/plain": [
       "mappingproxy({'__module__': '__main__',\n",
       "              'a': 30,\n",
       "              '__init__': <function __main__.PQR.__init__(self) -> None>,\n",
       "              'm1': <function __main__.PQR.m1(self)>,\n",
       "              'm2': <classmethod(<function PQR.m2 at 0x7f074371e950>)>,\n",
       "              'm3': <function __main__.PQR.m3()>,\n",
       "              '__dict__': <attribute '__dict__' of 'PQR' objects>,\n",
       "              '__weakref__': <attribute '__weakref__' of 'PQR' objects>,\n",
       "              '__doc__': None,\n",
       "              'c': 40,\n",
       "              'd': 50,\n",
       "              'e': 60,\n",
       "              'f': 70,\n",
       "              'g': 80})"
      ]
     },
     "execution_count": 5,
     "metadata": {},
     "output_type": "execute_result"
    }
   ],
   "source": [
    "PQR.m3()\n",
    "PQR.__dict__"
   ]
  },
  {
   "cell_type": "code",
   "execution_count": null,
   "metadata": {},
   "outputs": [],
   "source": []
  }
 ],
 "metadata": {
  "kernelspec": {
   "display_name": "Python 3",
   "language": "python",
   "name": "python3"
  },
  "language_info": {
   "codemirror_mode": {
    "name": "ipython",
    "version": 3
   },
   "file_extension": ".py",
   "mimetype": "text/x-python",
   "name": "python",
   "nbconvert_exporter": "python",
   "pygments_lexer": "ipython3",
   "version": "3.10.13"
  }
 },
 "nbformat": 4,
 "nbformat_minor": 2
}
