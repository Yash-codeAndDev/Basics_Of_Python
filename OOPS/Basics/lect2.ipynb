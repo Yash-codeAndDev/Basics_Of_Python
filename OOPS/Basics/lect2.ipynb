{
 "cells": [
  {
   "cell_type": "markdown",
   "metadata": {},
   "source": [
    "# Static Variable\n",
    "* If the value of a variable is not varied from object to object, such type of variables we have to declare with in the class directly but outside of methods. Such type of variables are called Static variables.\n",
    "* For total class only one copy of static variable will be created and shared by all objects of that class.\n",
    "* We can access static variables either by class name or by object reference. But recommended to use class name."
   ]
  },
  {
   "cell_type": "code",
   "execution_count": 6,
   "metadata": {},
   "outputs": [
    {
     "name": "stdout",
     "output_type": "stream",
     "text": [
      "{'__module__': '__main__', 'a': 30, '__init__': <function PQR.__init__ at 0x7f074371ed40>, 'm1': <function PQR.m1 at 0x7f074371edd0>, 'm2': <classmethod(<function PQR.m2 at 0x7f074371ee60>)>, 'm3': <function PQR.m3 at 0x7f074371eef0>, '__dict__': <attribute '__dict__' of 'PQR' objects>, '__weakref__': <attribute '__weakref__' of 'PQR' objects>, '__doc__': None}\n"
     ]
    }
   ],
   "source": [
    "class PQR:\n",
    "    a = 30\n",
    "    def __init__(self) -> None:\n",
    "        self.b = 30\n",
    "        PQR.c = 40\n",
    "    def m1(self):\n",
    "        PQR.d = 50\n",
    "\n",
    "    @classmethod\n",
    "    def m2(cls):\n",
    "        cls.e = 60\n",
    "        PQR.f = 70\n",
    "    def m3():\n",
    "        PQR.g = 80\n",
    "\n",
    "print(PQR.__dict__)"
   ]
  },
  {
   "cell_type": "code",
   "execution_count": 7,
   "metadata": {},
   "outputs": [
    {
     "data": {
      "text/plain": [
       "mappingproxy({'__module__': '__main__',\n",
       "              'a': 30,\n",
       "              '__init__': <function __main__.PQR.__init__(self) -> None>,\n",
       "              'm1': <function __main__.PQR.m1(self)>,\n",
       "              'm2': <classmethod(<function PQR.m2 at 0x7f074371ee60>)>,\n",
       "              'm3': <function __main__.PQR.m3()>,\n",
       "              '__dict__': <attribute '__dict__' of 'PQR' objects>,\n",
       "              '__weakref__': <attribute '__weakref__' of 'PQR' objects>,\n",
       "              '__doc__': None,\n",
       "              'c': 40})"
      ]
     },
     "execution_count": 7,
     "metadata": {},
     "output_type": "execute_result"
    }
   ],
   "source": [
    "t1 = PQR()\n",
    "PQR.__dict__"
   ]
  },
  {
   "cell_type": "code",
   "execution_count": 16,
   "metadata": {},
   "outputs": [
    {
     "name": "stdout",
     "output_type": "stream",
     "text": [
      "30\n",
      "30\n",
      "40\n"
     ]
    }
   ],
   "source": [
    "print(t1.a)\n",
    "print(t1.b)\n",
    "print(t1.c)\n",
    "# print(t1.d)\n",
    "# print(t1.e)\n",
    "# print(t1.f)\n"
   ]
  },
  {
   "cell_type": "code",
   "execution_count": 17,
   "metadata": {},
   "outputs": [
    {
     "name": "stdout",
     "output_type": "stream",
     "text": [
      "{'__module__': '__main__', 'a': 30, '__init__': <function PQR.__init__ at 0x7f074371ed40>, 'm1': <function PQR.m1 at 0x7f074371edd0>, 'm2': <classmethod(<function PQR.m2 at 0x7f074371ee60>)>, 'm3': <function PQR.m3 at 0x7f074371eef0>, '__dict__': <attribute '__dict__' of 'PQR' objects>, '__weakref__': <attribute '__weakref__' of 'PQR' objects>, '__doc__': None, 'c': 40, 'd': 50, 'e': 60, 'f': 70, 'g': 80}\n",
      "50\n"
     ]
    }
   ],
   "source": [
    "t1.m1()\n",
    "print(PQR.__dict__)\n",
    "print(t1.d)"
   ]
  },
  {
   "cell_type": "code",
   "execution_count": 32,
   "metadata": {},
   "outputs": [
    {
     "name": "stdout",
     "output_type": "stream",
     "text": [
      "{'__module__': '__main__', 'a': 30, '__init__': <function PQR.__init__ at 0x7f074371ed40>, 'm1': <function PQR.m1 at 0x7f074371edd0>, 'm2': <classmethod(<function PQR.m2 at 0x7f074371ee60>)>, 'm3': <function PQR.m3 at 0x7f074371eef0>, '__dict__': <attribute '__dict__' of 'PQR' objects>, '__weakref__': <attribute '__weakref__' of 'PQR' objects>, '__doc__': None, 'c': 40, 'd': 50, 'e': 60, 'f': 70, 'g': 80}\n",
      "60\n"
     ]
    }
   ],
   "source": [
    "PQR.m2()\n",
    "print(PQR.__dict__)\n",
    "print(t1.e)"
   ]
  },
  {
   "cell_type": "code",
   "execution_count": 19,
   "metadata": {},
   "outputs": [
    {
     "data": {
      "text/plain": [
       "mappingproxy({'__module__': '__main__',\n",
       "              'a': 30,\n",
       "              '__init__': <function __main__.PQR.__init__(self) -> None>,\n",
       "              'm1': <function __main__.PQR.m1(self)>,\n",
       "              'm2': <classmethod(<function PQR.m2 at 0x7f074371ee60>)>,\n",
       "              'm3': <function __main__.PQR.m3()>,\n",
       "              '__dict__': <attribute '__dict__' of 'PQR' objects>,\n",
       "              '__weakref__': <attribute '__weakref__' of 'PQR' objects>,\n",
       "              '__doc__': None,\n",
       "              'c': 40,\n",
       "              'd': 50,\n",
       "              'e': 60,\n",
       "              'f': 70,\n",
       "              'g': 80})"
      ]
     },
     "execution_count": 19,
     "metadata": {},
     "output_type": "execute_result"
    }
   ],
   "source": [
    "PQR.m3()\n",
    "PQR.__dict__"
   ]
  },
  {
   "cell_type": "markdown",
   "metadata": {},
   "source": [
    "* If we change the value of static variable by using either self or object reference variable, then the value of static variable won't be changed,just a new instance variable with that name will be added to that particular object"
   ]
  },
  {
   "cell_type": "code",
   "execution_count": 39,
   "metadata": {},
   "outputs": [
    {
     "name": "stdout",
     "output_type": "stream",
     "text": [
      "{'__module__': '__main__', 'c': 30, '__init__': <function ABC.__init__ at 0x7f0742e82c20>, '__dict__': <attribute '__dict__' of 'ABC' objects>, '__weakref__': <attribute '__weakref__' of 'ABC' objects>, '__doc__': None, 'b': 20}\n",
      "{'a': 10}\n",
      "{'a': 10}\n"
     ]
    }
   ],
   "source": [
    "class ABC:\n",
    "    c = 30\n",
    "    def __init__(self) -> None:\n",
    "        self.a = 10\n",
    "        ABC.b = 20\n",
    "\n",
    "e1 = ABC()\n",
    "e2 = ABC()\n",
    "\n",
    "print(ABC.__dict__)\n",
    "print(e1.__dict__)\n",
    "print(e2.__dict__)\n"
   ]
  },
  {
   "cell_type": "code",
   "execution_count": 40,
   "metadata": {},
   "outputs": [
    {
     "name": "stdout",
     "output_type": "stream",
     "text": [
      "a = 10 , b = 20 , c = 30\n",
      "a = 10 , b = 20 , c = 30\n",
      "a = 110 , b = 20 , c = 130\n",
      "a = 10 , b = 120 , c = 130\n"
     ]
    }
   ],
   "source": [
    "print(\"a = {} , b = {} , c = {}\".format(e1.a, e1.b , e1.c ))\n",
    "print(\"a = {} , b = {} , c = {}\".format(e2.a, e2.b , e2.c))\n",
    "\n",
    "e1.a = 110\n",
    "e2.b = 120\n",
    "ABC.c = 130\n",
    "\n",
    "print(\"a = {} , b = {} , c = {}\".format(e1.a, e1.b , e1.c ))\n",
    "print(\"a = {} , b = {} , c = {}\".format(e2.a, e2.b , e2.c))\n"
   ]
  },
  {
   "cell_type": "code",
   "execution_count": 41,
   "metadata": {},
   "outputs": [
    {
     "name": "stdout",
     "output_type": "stream",
     "text": [
      "{'a': 110}\n",
      "{'a': 10, 'b': 120}\n"
     ]
    }
   ],
   "source": [
    "print(vars(e1))\n",
    "print(vars(e2))\n"
   ]
  },
  {
   "cell_type": "code",
   "execution_count": null,
   "metadata": {},
   "outputs": [],
   "source": []
  },
  {
   "cell_type": "code",
   "execution_count": null,
   "metadata": {},
   "outputs": [],
   "source": []
  },
  {
   "cell_type": "code",
   "execution_count": null,
   "metadata": {},
   "outputs": [],
   "source": []
  }
 ],
 "metadata": {
  "kernelspec": {
   "display_name": "Python 3",
   "language": "python",
   "name": "python3"
  },
  "language_info": {
   "codemirror_mode": {
    "name": "ipython",
    "version": 3
   },
   "file_extension": ".py",
   "mimetype": "text/x-python",
   "name": "python",
   "nbconvert_exporter": "python",
   "pygments_lexer": "ipython3",
   "version": "3.10.13"
  }
 },
 "nbformat": 4,
 "nbformat_minor": 2
}
