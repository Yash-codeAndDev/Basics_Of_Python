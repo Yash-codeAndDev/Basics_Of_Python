{
 "cells": [
  {
   "cell_type": "code",
   "execution_count": 1,
   "metadata": {},
   "outputs": [],
   "source": [
    "# Defining Class\n",
    "class Student:\n",
    "    \"\"\"Student class containing Student details\"\"\"\n",
    "       \n",
    "    def __init__(self,name) -> None:\n",
    "        self.name = name\n",
    "        self.Marks = []\n",
    "\n",
    "    def getMarks(self):\n",
    "        for i in range(5):\n",
    "           self.Marks.append(int(input()))\n",
    "        \n",
    "    def printMarks(self):\n",
    "        for x in self.Marks:\n",
    "            print(x,end=\" \")"
   ]
  },
  {
   "cell_type": "code",
   "execution_count": 2,
   "metadata": {},
   "outputs": [
    {
     "data": {
      "text/plain": [
       "'Student class containing Student details'"
      ]
     },
     "execution_count": 2,
     "metadata": {},
     "output_type": "execute_result"
    }
   ],
   "source": [
    "Student.__doc__"
   ]
  },
  {
   "cell_type": "code",
   "execution_count": 3,
   "metadata": {},
   "outputs": [
    {
     "data": {
      "text/plain": [
       "mappingproxy({'__module__': '__main__',\n",
       "              '__doc__': 'Student class containing Student details',\n",
       "              '__init__': <function __main__.Student.__init__(self, name) -> None>,\n",
       "              'getMarks': <function __main__.Student.getMarks(self)>,\n",
       "              'printMarks': <function __main__.Student.printMarks(self)>,\n",
       "              '__dict__': <attribute '__dict__' of 'Student' objects>,\n",
       "              '__weakref__': <attribute '__weakref__' of 'Student' objects>})"
      ]
     },
     "execution_count": 3,
     "metadata": {},
     "output_type": "execute_result"
    }
   ],
   "source": [
    "Student.__dict__"
   ]
  },
  {
   "cell_type": "code",
   "execution_count": 16,
   "metadata": {},
   "outputs": [
    {
     "name": "stdout",
     "output_type": "stream",
     "text": [
      "40 40 45 45 48 "
     ]
    }
   ],
   "source": [
    "student1 = Student(\"Yash\")\n",
    "student1.getMarks()\n",
    "student1.printMarks()"
   ]
  },
  {
   "cell_type": "markdown",
   "metadata": {},
   "source": [
    "# Variables In Class\n",
    "1. Instance Variables (Object Level Variables)   \n",
    "2. Static Variables (Class Level Variables)\n",
    "3. Local variables (Method Level Variables)"
   ]
  },
  {
   "cell_type": "markdown",
   "metadata": {},
   "source": [
    "\n",
    "##### Instance Variables:\n",
    "-  If the value of a variable is varied from object to object, then such type of variables are called instance variables\n",
    "- we can declare instance variable :\n",
    "   *  Inside Constructor by using self variable\n",
    "   * Inside Instance Method by using self variable\n",
    "   * Outside of the class by using object reference variable\n",
    "\n",
    "- Inside Constructor\n",
    "   * We can declare instance variables inside a constructor by using self keyword. Once we creates object, automatically these variables will be added to the object.\n",
    "- Inside Instance Method\n",
    "   * We can also declare instance variables inside instance method by using self variable. If any instance variable declared inside instance method, that instance variable will be added once we call that method\n",
    "- Outside of class using object reference variable"
   ]
  },
  {
   "cell_type": "code",
   "execution_count": 40,
   "metadata": {},
   "outputs": [],
   "source": [
    "class Employee:\n",
    "    def __init__(self, name, empId, sal) -> None:\n",
    "          # declaring instance variable inside constructor\n",
    "        self.name = name\n",
    "        self.empId = empId\n",
    "        self.baseSal = sal\n",
    "        self.raiseSal()\n",
    "    def raiseSal(self):\n",
    "        # declaring instance variable inside method\n",
    "        self.raiseAmt = self.baseSal * 0.3\n",
    "\n",
    "\n",
    "    def printDetails(self):\n",
    "        print(\"Employee Name : {}\\nEmployee Id : {}\\nEmployee Base Salary : {}\".format(self.name,self.empId,self.baseSal))\n",
    "        print(\"Salary Raise : {}\".format(self.raiseAmt))"
   ]
  },
  {
   "cell_type": "code",
   "execution_count": 33,
   "metadata": {},
   "outputs": [
    {
     "name": "stdout",
     "output_type": "stream",
     "text": [
      "Yash\n",
      "200231\n",
      "65000\n",
      "19500.0\n",
      "84500.0\n",
      "Employee Name : Yash\n",
      "Employee Id : 200231\n",
      "Employee Base Salary : 65000\n",
      "Salary Raise : 19500.0\n"
     ]
    }
   ],
   "source": [
    "emp1 = Employee(\"Yash\",200231,65000)\n",
    "print(emp1.name)\n",
    "print(emp1.empId)\n",
    "print(emp1.baseSal)\n",
    "print(emp1.raiseAmt)\n",
    "\n",
    "# declaring instance using reference variable\n",
    "# we need to call method containing initialization of instance variable before \n",
    "# accessing the variable\n",
    "\n",
    "# initialization of instance variable using reference variable \n",
    "emp1.totalSal = emp1.baseSal + emp1.raiseAmt\n",
    "print(emp1.totalSal)\n",
    "\n",
    "emp1.printDetails()"
   ]
  },
  {
   "cell_type": "code",
   "execution_count": 34,
   "metadata": {},
   "outputs": [
    {
     "data": {
      "text/plain": [
       "{'name': 'Yash',\n",
       " 'empId': 200231,\n",
       " 'baseSal': 65000,\n",
       " 'raiseAmt': 19500.0,\n",
       " 'totalSal': 84500.0}"
      ]
     },
     "execution_count": 34,
     "metadata": {},
     "output_type": "execute_result"
    }
   ],
   "source": [
    "vars(emp1)"
   ]
  },
  {
   "cell_type": "code",
   "execution_count": 39,
   "metadata": {},
   "outputs": [
    {
     "data": {
      "text/plain": [
       "mappingproxy({'__module__': '__main__',\n",
       "              '__init__': <function __main__.Employee.__init__(self, name, empId, sal) -> None>,\n",
       "              'raiseSal': <function __main__.Employee.raiseSal(self)>,\n",
       "              'printDetails': <function __main__.Employee.printDetails(self)>,\n",
       "              '__dict__': <attribute '__dict__' of 'Employee' objects>,\n",
       "              '__weakref__': <attribute '__weakref__' of 'Employee' objects>,\n",
       "              '__doc__': None})"
      ]
     },
     "execution_count": 39,
     "metadata": {},
     "output_type": "execute_result"
    }
   ],
   "source": [
    "Employee.__dict__"
   ]
  },
  {
   "cell_type": "code",
   "execution_count": 47,
   "metadata": {},
   "outputs": [
    {
     "name": "stdout",
     "output_type": "stream",
     "text": [
      "{'a': 10, 'b': 'B'}\n",
      "{'a': 10, 'b': 'B'}\n",
      "{'a': 10, 'b': 'B', 'c': 30}\n",
      "{'a': 10, 'b': 'B', 'z': 26}\n"
     ]
    }
   ],
   "source": [
    "# Code showing different Object of same class may have different instance variable\n",
    "class ABC:\n",
    "    def __init__(self) -> None:\n",
    "        self.a = 10\n",
    "        self.b = \"B\"\n",
    "\n",
    "obj1 = ABC()\n",
    "obj2 = ABC()\n",
    "\n",
    "print(obj1.__dict__)\n",
    "print(obj2.__dict__)\n",
    "\n",
    "obj1.c = 30\n",
    "obj2.z = 26\n",
    "\n",
    "print(obj1.__dict__)\n",
    "print(obj2.__dict__)"
   ]
  },
  {
   "cell_type": "code",
   "execution_count": 48,
   "metadata": {},
   "outputs": [
    {
     "name": "stdout",
     "output_type": "stream",
     "text": [
      "{'a': 10, 'c': 30}\n",
      "{'b': 'B', 'z': 26}\n"
     ]
    }
   ],
   "source": [
    "# Deleting instance Variable Of objects\n",
    "del obj1.b\n",
    "del obj2.a\n",
    "print(obj1.__dict__)\n",
    "print(obj2.__dict__)\n"
   ]
  }
 ],
 "metadata": {
  "kernelspec": {
   "display_name": "Python 3",
   "language": "python",
   "name": "python3"
  },
  "language_info": {
   "codemirror_mode": {
    "name": "ipython",
    "version": 3
   },
   "file_extension": ".py",
   "mimetype": "text/x-python",
   "name": "python",
   "nbconvert_exporter": "python",
   "pygments_lexer": "ipython3",
   "version": "3.10.13"
  }
 },
 "nbformat": 4,
 "nbformat_minor": 2
}
