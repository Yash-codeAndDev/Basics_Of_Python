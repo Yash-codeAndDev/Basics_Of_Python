{
 "cells": [
  {
   "cell_type": "markdown",
   "metadata": {},
   "source": [
    "# Method Types \n",
    "* Instance Methods\n",
    "* Class Methods\n",
    "* Static Methods"
   ]
  },
  {
   "cell_type": "markdown",
   "metadata": {},
   "source": [
    "#### Instance Methods\n",
    "- Inside method implementation if we are using instance variables then such type of methods are called instance methods.\n",
    "- Inside instance method declaration,we have to pass self variable.\n",
    "- def m1(self):\n",
    "- By using self variable inside method we can able to access instance variables.\n",
    "- Within the class we can call instance method by using self variable and from outside of the class we can call by using object reference"
   ]
  },
  {
   "cell_type": "code",
   "execution_count": 3,
   "metadata": {},
   "outputs": [
    {
     "name": "stdout",
     "output_type": "stream",
     "text": [
      "Hi  Yash\n",
      "Your Marks  Yash\n",
      "First Grade\n",
      "Hi  Ayush\n",
      "Your Marks  Ayush\n",
      "Yout got Second Grade\n"
     ]
    }
   ],
   "source": [
    "class Student:\n",
    "    def __init__(self,name,marks):\n",
    "        self.name  = name\n",
    "        self.marks = marks\n",
    "    def display(self):\n",
    "        print(\"Hi \",self.name)\n",
    "        print(\"Your Marks \",self.name)\n",
    "    \n",
    "    def grade(self):\n",
    "        if self.marks >= 80:\n",
    "            print('First Grade')\n",
    "        elif self.marks>=60:\n",
    "            print('Yout got Second Grade')\n",
    "        elif self.marks>=35:\n",
    "            print('You got Third Grade')\n",
    "        else:\n",
    "            print('You are Failed')\n",
    "\n",
    "\n",
    "n = int(input(\"Enter number of Students : \"))\n",
    "for i in range(n):\n",
    "    name = input(\"Enter Name : \")\n",
    "    marks = int(input(\"Enter Marks : \"))\n",
    "    s = Student(name,marks)\n",
    "    s.display()\n",
    "    s.grade()\n",
    "    "
   ]
  },
  {
   "cell_type": "code",
   "execution_count": null,
   "metadata": {},
   "outputs": [],
   "source": []
  }
 ],
 "metadata": {
  "kernelspec": {
   "display_name": "Python 3",
   "language": "python",
   "name": "python3"
  },
  "language_info": {
   "codemirror_mode": {
    "name": "ipython",
    "version": 3
   },
   "file_extension": ".py",
   "mimetype": "text/x-python",
   "name": "python",
   "nbconvert_exporter": "python",
   "pygments_lexer": "ipython3",
   "version": "3.10.13"
  }
 },
 "nbformat": 4,
 "nbformat_minor": 2
}
