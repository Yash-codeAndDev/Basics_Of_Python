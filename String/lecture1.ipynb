{
 "cells": [
  {
   "cell_type": "code",
   "execution_count": 1,
   "metadata": {},
   "outputs": [
    {
     "name": "stdout",
     "output_type": "stream",
     "text": [
      "Hello how are You ?\n"
     ]
    }
   ],
   "source": [
    "stm = 'Hello how are You ?'\n",
    "print(stm)"
   ]
  },
  {
   "cell_type": "code",
   "execution_count": 8,
   "metadata": {},
   "outputs": [
    {
     "name": "stdout",
     "output_type": "stream",
     "text": [
      "?\n",
      "H\n"
     ]
    }
   ],
   "source": [
    "print(stm[-1])\n",
    "print(stm[0])"
   ]
  },
  {
   "cell_type": "markdown",
   "metadata": {},
   "source": [
    "## String Slicing"
   ]
  },
  {
   "cell_type": "code",
   "execution_count": 16,
   "metadata": {},
   "outputs": [],
   "source": [
    "stm2 = \"0123456789\""
   ]
  },
  {
   "cell_type": "code",
   "execution_count": 35,
   "metadata": {},
   "outputs": [
    {
     "name": "stdout",
     "output_type": "stream",
     "text": [
      "0123456789\n",
      "234567\n",
      "0123\n",
      "456789\n"
     ]
    }
   ],
   "source": [
    "# [ start : stop : step]\n",
    "# start -> inclusive , stop->exclusive , step-> gap\n",
    "print(stm2[:])\n",
    "print(stm2[2:8]) \n",
    "print(stm2[:4])\n",
    "print(stm2[4:])\n"
   ]
  },
  {
   "cell_type": "code",
   "execution_count": 36,
   "metadata": {},
   "outputs": [
    {
     "name": "stdout",
     "output_type": "stream",
     "text": [
      "012345678\n",
      "678\n",
      "56789\n",
      "012345678\n"
     ]
    }
   ],
   "source": [
    "print(stm2[0:-1])\n",
    "print(stm2[-4:-1])\n",
    "print(stm2[-5:])\n",
    "print(stm2[:-1])"
   ]
  },
  {
   "cell_type": "code",
   "execution_count": 43,
   "metadata": {},
   "outputs": [
    {
     "name": "stdout",
     "output_type": "stream",
     "text": [
      "02468\n",
      "97531\n"
     ]
    }
   ],
   "source": [
    "print(stm2[::2])\n",
    "print(stm2[::-2])"
   ]
  },
  {
   "cell_type": "markdown",
   "metadata": {},
   "source": [
    "### String Functions"
   ]
  },
  {
   "cell_type": "code",
   "execution_count": 44,
   "metadata": {},
   "outputs": [],
   "source": [
    "str3  = \"Hello How Are You?\""
   ]
  },
  {
   "cell_type": "code",
   "execution_count": 54,
   "metadata": {},
   "outputs": [
    {
     "name": "stdout",
     "output_type": "stream",
     "text": [
      "hello how are you?\n",
      "HELLO HOW ARE YOU?\n",
      "Heyyo How Are You?\n"
     ]
    }
   ],
   "source": [
    "print(str3.lower()) # set all character to lowercase of string\n",
    "print(str3.upper()) # set all character to uppercase of string\n",
    "print(str3.replace('ll','yy')) # replace occurrence of string  with another string"
   ]
  },
  {
   "cell_type": "code",
   "execution_count": 59,
   "metadata": {},
   "outputs": [
    {
     "name": "stdout",
     "output_type": "stream",
     "text": [
      "0 -> H\n",
      "1 -> e\n",
      "2 -> l\n",
      "3 -> l\n",
      "4 -> o\n",
      "5 ->  \n",
      "6 -> H\n",
      "7 -> o\n",
      "8 -> w\n",
      "9 ->  \n",
      "10 -> A\n",
      "11 -> r\n",
      "12 -> e\n",
      "13 ->  \n",
      "14 -> Y\n",
      "15 -> o\n",
      "16 -> u\n",
      "17 -> ?\n"
     ]
    }
   ],
   "source": [
    "for i in range(len(str3)):\n",
    "    print('{} -> {}'.format(i,str3[i]))"
   ]
  },
  {
   "cell_type": "code",
   "execution_count": 72,
   "metadata": {},
   "outputs": [
    {
     "name": "stdout",
     "output_type": "stream",
     "text": [
      "1\n",
      "12\n",
      "7\n"
     ]
    }
   ],
   "source": [
    "print(str3.index('e')) # find incex of occurrence of e in string (first occurrence by default) \n",
    "print(str3.index('e',2)) # find index of second occurrence of e in string\n",
    "\n",
    "print(str3.find('o',7,15)) # find index of occurrence of  string in given range\n",
    " "
   ]
  },
  {
   "cell_type": "code",
   "execution_count": 5,
   "metadata": {},
   "outputs": [
    {
     "name": "stdout",
     "output_type": "stream",
     "text": [
      "['Lemon,', 'Ginger,', 'Masala,', 'Mint']\n",
      "['Lemon', 'Ginger', 'Masala', 'Mint']\n",
      "Lemon-Ginger-Masala-Mint\n"
     ]
    }
   ],
   "source": [
    "str4 = 'Lemon, Ginger, Masala, Mint'\n",
    "# string to list\n",
    "print(str4.split()) # split on basis of space by default\n",
    "print(str4.split(', ')) \n",
    "\n",
    "# list to string\n",
    "ls1 = ['Lemon', 'Ginger', 'Masala', 'Mint']\n",
    "print('-'.join(ls1))"
   ]
  },
  {
   "cell_type": "code",
   "execution_count": 9,
   "metadata": {},
   "outputs": [
    {
     "name": "stdout",
     "output_type": "stream",
     "text": [
      "True\n",
      "True\n",
      "False\n"
     ]
    }
   ],
   "source": [
    "str5 = \"Hello how are you , Are you fine?\"\n",
    "print('are' in str5)\n",
    "print('ello' in str5)\n",
    "print('elloas' in str5)\n"
   ]
  },
  {
   "cell_type": "code",
   "execution_count": null,
   "metadata": {},
   "outputs": [],
   "source": []
  }
 ],
 "metadata": {
  "kernelspec": {
   "display_name": "Python 3",
   "language": "python",
   "name": "python3"
  },
  "language_info": {
   "codemirror_mode": {
    "name": "ipython",
    "version": 3
   },
   "file_extension": ".py",
   "mimetype": "text/x-python",
   "name": "python",
   "nbconvert_exporter": "python",
   "pygments_lexer": "ipython3",
   "version": "3.10.13"
  }
 },
 "nbformat": 4,
 "nbformat_minor": 2
}
