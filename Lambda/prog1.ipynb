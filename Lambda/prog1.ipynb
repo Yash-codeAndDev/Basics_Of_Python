{
 "cells": [
  {
   "cell_type": "markdown",
   "metadata": {},
   "source": [
    "### Lambda Function\n",
    "\n",
    "* A lambda function is a function without a name (you can also call it an anonymous function)\n",
    "* The declaration of the lambda function doesn't resemble a normal function declaration\n",
    "    - lambda parameters: expression\n",
    "    - Such a clause returns the value of the expression when taking into account the current value of the current lambda argument.\n"
   ]
  },
  {
   "cell_type": "code",
   "execution_count": 5,
   "metadata": {},
   "outputs": [
    {
     "name": "stdout",
     "output_type": "stream",
     "text": [
      "4 4\n",
      "1 1\n",
      "0 0\n",
      "1 1\n",
      "4 4\n"
     ]
    }
   ],
   "source": [
    "'''\n",
    "    the first lambda is an anonymous parameterless function that always returns 2. \n",
    "    As we've assigned it to a variable named two, we can say that the function is \n",
    "    not anonymous anymore, and we can use the name to invoke it.\n",
    "\n",
    "    the second one is a one-parameter anonymous function that returns the value of \n",
    "    its squared argument. We've named it as such, too.\n",
    "\n",
    "    the third lambda takes two parameters and returns the value of the first one \n",
    "    raised to the power of the second one. The name of the variable which carries \n",
    "    the lambda speaks for itself. We don't use pow to avoid confusion with the built-in \n",
    "    function of the same name and the same purpose\n",
    "\n",
    "'''\n",
    "\n",
    "\n",
    "\n",
    "\n",
    "two = lambda :2\n",
    "sqr = lambda  x : x*x\n",
    "pwr = lambda x,y: x**y\n",
    "\n",
    "for i in range(-2,3):\n",
    "    print(sqr(i) , end=\" \")\n",
    "    print( pwr(i , two()))\n",
    "\n"
   ]
  },
  {
   "cell_type": "code",
   "execution_count": 6,
   "metadata": {},
   "outputs": [
    {
     "name": "stdout",
     "output_type": "stream",
     "text": [
      "f(-2)=18\n",
      "f(-1)=8\n",
      "f(0)=2\n",
      "f(1)=0\n",
      "f(2)=2\n"
     ]
    }
   ],
   "source": [
    "def print_function(args, fun):\n",
    "    for x in args:\n",
    "        print('f(', x,')=', fun(x), sep='')\n",
    "\n",
    "print_function([x for x in range(-2, 3)], lambda x: 2 * x**2 - 4 * x + 2)\n",
    "\n"
   ]
  },
  {
   "cell_type": "code",
   "execution_count": 15,
   "metadata": {},
   "outputs": [
    {
     "name": "stdout",
     "output_type": "stream",
     "text": [
      "data :: [4, -8, 6, -5, -6, -3, 0, -10, -6, 4]\n",
      "filtered :: [4, 6, 4]\n"
     ]
    }
   ],
   "source": [
    "from random import seed, randint\n",
    "\n",
    "seed()\n",
    "data = [randint(-10,10) for x in range(10)]\n",
    "print('data :' , data,sep=\": \")\n",
    "\n",
    "\n",
    "filtered = list(filter(lambda x: x > 0 and x % 2 == 0, data))\n",
    "\n",
    "print('filtered :',filtered,sep=\": \")\n"
   ]
  }
 ],
 "metadata": {
  "kernelspec": {
   "display_name": "Python 3",
   "language": "python",
   "name": "python3"
  },
  "language_info": {
   "codemirror_mode": {
    "name": "ipython",
    "version": 3
   },
   "file_extension": ".py",
   "mimetype": "text/x-python",
   "name": "python",
   "nbconvert_exporter": "python",
   "pygments_lexer": "ipython3",
   "version": "3.12.1"
  }
 },
 "nbformat": 4,
 "nbformat_minor": 2
}
